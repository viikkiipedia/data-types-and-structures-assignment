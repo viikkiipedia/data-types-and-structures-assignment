{
  "nbformat": 4,
  "nbformat_minor": 0,
  "metadata": {
    "colab": {
      "provenance": []
    },
    "kernelspec": {
      "name": "python3",
      "display_name": "Python 3"
    },
    "language_info": {
      "name": "python"
    }
  },
  "cells": [
    {
      "cell_type": "markdown",
      "source": [
        "**Data Types and Structures Questions**\n",
        "\n",
        "---\n",
        "\n",
        "\n"
      ],
      "metadata": {
        "id": "uQDImmPjG5bE"
      }
    },
    {
      "cell_type": "markdown",
      "source": [
        "1. What are data structures, and why are they important?\n",
        "\n",
        "Ans:- Data structures are ways of organizing and storing data so that they can be accessed and modified efficiently. They are critical in computer science because they allow for efficient storage, retrieval, and manipulation of data. Different data structures are optimized for different operations like searching, sorting, and updating data.\n"
      ],
      "metadata": {
        "id": "sGYPiiV1GLNo"
      }
    },
    {
      "cell_type": "markdown",
      "source": [
        "2. Explain the difference between mutable and immutable data types with examples.\n",
        "\n",
        "Ans:- Mutable types: These are data types whose values can be changed after they are created. Example: Lists, dictionaries, sets.\n",
        "\n",
        "Immutable types: These are data types whose values cannot be changed after they are created. Example: Tuples, strings, integers.\n"
      ],
      "metadata": {
        "id": "6t2vYVrDGdeS"
      }
    },
    {
      "cell_type": "markdown",
      "source": [
        "3. What are the main differences between lists and tuples in Python?\n",
        "\n",
        "Ans:- Mutability: Lists are mutable, meaning you can change their elements, while tuples are immutable, so once created, their elements cannot be changed.\n",
        "\n",
        "Performance: Since tuples are immutable, they are slightly faster and require less memory compared to lists.\n",
        "\n",
        "Use cases: Lists are typically used when the data might change, while tuples are used when the data should remain constant."
      ],
      "metadata": {
        "id": "twTKTffhIVuc"
      }
    },
    {
      "cell_type": "markdown",
      "source": [
        "4. Describe how dictionaries store data.\n",
        "\n",
        "Ans:- Dictionaries store data in key-value pairs. Each key must be unique, and it maps to a corresponding value. Internally, dictionaries use a hash table for fast lookups, which allows for constant-time complexity (O(1)) for most operations like searching and inserting.\n"
      ],
      "metadata": {
        "id": "LJteTdzFJOLZ"
      }
    },
    {
      "cell_type": "markdown",
      "source": [
        "5. Why might you use a set instead of a list in Python?\n",
        "\n",
        "Ans:- You would use a set instead of a list when you want to store unique items and do not need to maintain any specific order. Sets automatically handle duplicates, while lists can contain multiple instances of the same item."
      ],
      "metadata": {
        "id": "veoSERXzJhNF"
      }
    },
    {
      "cell_type": "markdown",
      "source": [
        "6. What is a string in Python, and how is it different from a list?\n",
        "\n",
        "Ans:-A string in Python is an immutable sequence of characters. A list, on the other hand, is a mutable sequence that can hold different types of elements (e.g., integers, strings, other lists).\n",
        "\n"
      ],
      "metadata": {
        "id": "d6u259l3JzuZ"
      }
    },
    {
      "cell_type": "markdown",
      "source": [
        "7. How do tuples ensure data integrity in Python?\n",
        "\n",
        "Ans:- Tuples ensure data integrity by being immutable. Once a tuple is created, its data cannot be altered, ensuring that the information remains consistent throughout the program. This is useful when you need to guarantee that data cannot be accidentally changed."
      ],
      "metadata": {
        "id": "7aGSS4d4J8hG"
      }
    },
    {
      "cell_type": "markdown",
      "source": [
        "8. What is a hash table, and how does it relate to dictionaries in Python?\n",
        "\n",
        "Ans:- A hash table is a data structure that uses a hash function to compute an index (or \"hash\") into an array of buckets or slots, from which the desired value can be found. In Python, dictionaries are implemented using hash tables, which allow for fast lookups and insertions (average O(1) time complexity)."
      ],
      "metadata": {
        "id": "CvctljIfJ8fL"
      }
    },
    {
      "cell_type": "markdown",
      "source": [
        "9. Can lists contain different data types in Python?\n",
        "\n",
        "Ans:- Yes, lists can contain elements of different data types. For example, you can have integers, strings, and other lists within the same list:"
      ],
      "metadata": {
        "id": "yAsGq6dxKuIn"
      }
    },
    {
      "cell_type": "markdown",
      "source": [
        "10. Explain why strings are immutable in Python.\n",
        "\n",
        "Ans:- Strings are immutable because they are often used for handling text data, and making them immutable allows for more efficient memory management. If strings were mutable, every time you modified a string, the system would need to allocate new memory for each modification. Immutable strings also ensure that they are hashable, which is important for their use as dictionary keys."
      ],
      "metadata": {
        "id": "nt8uDTWXK3Sn"
      }
    },
    {
      "cell_type": "markdown",
      "source": [
        "11. What advantages do dictionaries offer over lists for certain tasks?\n",
        "\n",
        "Ans:- Dictionaries offer faster lookups for specific keys (average O(1) time complexity), while lists require linear time (O(n)) to search for an item. Therefore, dictionaries are preferable when you need to quickly associate and access data based on unique keys."
      ],
      "metadata": {
        "id": "XcZrBuwuLD54"
      }
    },
    {
      "cell_type": "markdown",
      "source": [
        "12. How do sets handle duplicate values in Python?\n",
        "\n",
        "Ans:- Sets automatically remove duplicate values. If you try to add a duplicate item to a set, it will be ignored."
      ],
      "metadata": {
        "id": "vfb-AD1KLVL8"
      }
    },
    {
      "cell_type": "markdown",
      "source": [
        "13. Describe a scenario where using a tuple would be preferable over a list.\n",
        "\n",
        "Ans:- Tuples are preferable when you need to store a collection of items that should not change, such as coordinates or RGB values, ensuring that the data remains consistent throughout the program. For example, a tuple could be used to represent a point in 2D space."
      ],
      "metadata": {
        "id": "KO_DTmHrLcp_"
      }
    },
    {
      "cell_type": "markdown",
      "source": [
        "14. How does the “in” keyword work differently for lists and dictionaries?\n",
        "\n",
        "Ans:- In lists: The in keyword checks if an element is present in the list.\n",
        "\n",
        "In dictionaries: The in keyword checks if a key is present in the dictionary, not the value."
      ],
      "metadata": {
        "id": "VL52wdO0Ll_Z"
      }
    },
    {
      "cell_type": "markdown",
      "source": [
        "15. Can you modify the elements of a tuple? Explain why or why not.\n",
        "\n",
        "Ans:- No, you cannot modify the elements of a tuple because tuples are immutable. Once a tuple is created, its data cannot be changed. This immutability is a key feature that ensures data integrity and makes tuples suitable for use as keys in dictionaries."
      ],
      "metadata": {
        "id": "Fel7TMAMMBn5"
      }
    },
    {
      "cell_type": "markdown",
      "source": [
        "16. What is a nested dictionary, and give an example of its use case.\n",
        "\n",
        "Ans:- A nested dictionary is a dictionary where one or more values are themselves dictionaries. It’s useful for representing hierarchical or complex data structures. Example:"
      ],
      "metadata": {
        "id": "K4BZV3t4MJIs"
      }
    },
    {
      "cell_type": "code",
      "source": [
        "students = {\n",
        "    'John': {'age': 20, 'grade': 'A'},\n",
        "    'Jane': {'age': 22, 'grade': 'B'}\n",
        "}\n",
        "print(students['John']['grade'])\n"
      ],
      "metadata": {
        "colab": {
          "base_uri": "https://localhost:8080/"
        },
        "id": "_UjVCe9pMkP3",
        "outputId": "e213f0a0-de19-4ba4-bf77-cfef9f633adc"
      },
      "execution_count": 10,
      "outputs": [
        {
          "output_type": "stream",
          "name": "stdout",
          "text": [
            "A\n"
          ]
        }
      ]
    },
    {
      "cell_type": "markdown",
      "source": [
        "17. Describe the time complexity of accessing elements in a dictionary.\n",
        "\n",
        "Ans:- The time complexity of accessing elements in a dictionary is O(1) on average, thanks to the underlying hash table. This allows for very fast lookups, insertions, and deletions.\n"
      ],
      "metadata": {
        "id": "TqVZjTkkOesw"
      }
    },
    {
      "cell_type": "markdown",
      "source": [
        "18. In what situations are lists preferred over dictionaries?\n",
        "\n",
        "Ans:- Lists are preferred when the order of elements matters or when you need to store a sequence of items that will be accessed by their position (index) rather than by a key. Lists are also better when you need to perform operations like sorting or iterating over elements in order."
      ],
      "metadata": {
        "id": "omkXur1HOrFw"
      }
    },
    {
      "cell_type": "markdown",
      "source": [
        "19. Why are dictionaries considered unordered, and how does that affect data retrieval?\n",
        "\n",
        "Ans:- Dictionaries in Python are unordered because the key-value pairs are stored in a way that does not guarantee any specific order. This is due to the use of hash tables. This means that if you iterate over a dictionary, the order of the items might not be the same as the order in which they were added."
      ],
      "metadata": {
        "id": "VaJ5ndnXOu5g"
      }
    },
    {
      "cell_type": "markdown",
      "source": [
        "20. Explain the difference between a list and a dictionary in terms of data retrieval.\n",
        "\n",
        "Ans:- Lists: You access elements by index (position), and the time complexity for access is O(1) for each index.\n",
        "\n",
        "Dictionaries: You access elements by keys, and the time complexity for access is O(1) on average (due to the hash table)."
      ],
      "metadata": {
        "id": "n4NyLKIeO6Hd"
      }
    },
    {
      "cell_type": "markdown",
      "source": [
        "**Practical Questions**\n",
        "\n",
        "1.  Write a code to create a string with your name and print it"
      ],
      "metadata": {
        "id": "WojZVZLEWPdX"
      }
    },
    {
      "cell_type": "code",
      "source": [
        "string=\"vikas\"\n",
        "print(string)\n",
        "\n",
        "string=\"vikas\"\n",
        "type(string)"
      ],
      "metadata": {
        "colab": {
          "base_uri": "https://localhost:8080/"
        },
        "id": "9bBDGJwlU2kQ",
        "outputId": "06f1c609-e1ba-4f80-cb2a-c24d5ba2ec84"
      },
      "execution_count": 21,
      "outputs": [
        {
          "output_type": "stream",
          "name": "stdout",
          "text": [
            "vikas\n"
          ]
        },
        {
          "output_type": "execute_result",
          "data": {
            "text/plain": [
              "str"
            ]
          },
          "metadata": {},
          "execution_count": 21
        }
      ]
    },
    {
      "cell_type": "markdown",
      "source": [
        "2. Write a code to find the length of the string \"Hello World\""
      ],
      "metadata": {
        "id": "uSBK0LGXWfv5"
      }
    },
    {
      "cell_type": "code",
      "source": [
        "str=\"hello world\"\n",
        "len(str)"
      ],
      "metadata": {
        "colab": {
          "base_uri": "https://localhost:8080/"
        },
        "id": "5EdPOp3FWl4B",
        "outputId": "7717d323-74ba-45ce-8de5-eb874895afc5"
      },
      "execution_count": 22,
      "outputs": [
        {
          "output_type": "execute_result",
          "data": {
            "text/plain": [
              "11"
            ]
          },
          "metadata": {},
          "execution_count": 22
        }
      ]
    },
    {
      "cell_type": "markdown",
      "source": [
        "3. Write a code to slice the first 3 characters from the string \"Python Programming\""
      ],
      "metadata": {
        "id": "3ElfgplcWwQn"
      }
    },
    {
      "cell_type": "code",
      "source": [
        "str=\"Python programming\"\n",
        "str[0:3]"
      ],
      "metadata": {
        "colab": {
          "base_uri": "https://localhost:8080/",
          "height": 35
        },
        "id": "al_w39ifW29j",
        "outputId": "c156f903-f7ab-4716-da04-c62d27f847ce"
      },
      "execution_count": 23,
      "outputs": [
        {
          "output_type": "execute_result",
          "data": {
            "text/plain": [
              "'Pyt'"
            ],
            "application/vnd.google.colaboratory.intrinsic+json": {
              "type": "string"
            }
          },
          "metadata": {},
          "execution_count": 23
        }
      ]
    },
    {
      "cell_type": "markdown",
      "source": [
        "4. Write a code to convert the string \"hello\" to uppercase"
      ],
      "metadata": {
        "id": "QIZnOZ09XaWV"
      }
    },
    {
      "cell_type": "code",
      "source": [
        "text=\"hello\"\n",
        "text.upper()"
      ],
      "metadata": {
        "colab": {
          "base_uri": "https://localhost:8080/",
          "height": 35
        },
        "id": "VSJZHPtgXfYP",
        "outputId": "52f252fb-6645-4f96-9afd-f526e7718790"
      },
      "execution_count": 26,
      "outputs": [
        {
          "output_type": "execute_result",
          "data": {
            "text/plain": [
              "'HELLO'"
            ],
            "application/vnd.google.colaboratory.intrinsic+json": {
              "type": "string"
            }
          },
          "metadata": {},
          "execution_count": 26
        }
      ]
    },
    {
      "cell_type": "markdown",
      "source": [
        " 5. Write a code to replace the word \"apple\" with \"orange\" in the string \"I like apple\""
      ],
      "metadata": {
        "id": "g2Fn7TZMZ9Oj"
      }
    },
    {
      "cell_type": "code",
      "source": [
        "fruit=\"i like apple\"\n",
        "fruit.replace(\"apple\", \"orange\")"
      ],
      "metadata": {
        "colab": {
          "base_uri": "https://localhost:8080/",
          "height": 35
        },
        "id": "zNp6i6dwa-gj",
        "outputId": "91912644-141d-465f-a8b9-9dd7b474f008"
      },
      "execution_count": 29,
      "outputs": [
        {
          "output_type": "execute_result",
          "data": {
            "text/plain": [
              "'i like orange'"
            ],
            "application/vnd.google.colaboratory.intrinsic+json": {
              "type": "string"
            }
          },
          "metadata": {},
          "execution_count": 29
        }
      ]
    },
    {
      "cell_type": "markdown",
      "source": [
        "6. Write a code to create a list with numbers 1 to 5 and print it."
      ],
      "metadata": {
        "id": "BGzAuxqTb1gt"
      }
    },
    {
      "cell_type": "code",
      "source": [
        "number=[1,2,3,4,5]\n",
        "print(number)"
      ],
      "metadata": {
        "colab": {
          "base_uri": "https://localhost:8080/"
        },
        "id": "y6nkHLKObVWK",
        "outputId": "bf1be321-7da8-4d73-9c0b-00ee62b86ebb"
      },
      "execution_count": 31,
      "outputs": [
        {
          "output_type": "stream",
          "name": "stdout",
          "text": [
            "[1, 2, 3, 4, 5]\n"
          ]
        }
      ]
    },
    {
      "cell_type": "markdown",
      "source": [
        " 7. Write a code to append the number 10 to the list [1, 2, 3, 4]\n"
      ],
      "metadata": {
        "id": "m4ZhbesHc4lW"
      }
    },
    {
      "cell_type": "code",
      "source": [
        "number= [1,2,3,4]\n",
        "number.append(10)\n",
        "print(number)"
      ],
      "metadata": {
        "colab": {
          "base_uri": "https://localhost:8080/"
        },
        "id": "8i-guko-eWAd",
        "outputId": "b483381e-3308-4899-cedf-6d12779c9556"
      },
      "execution_count": 33,
      "outputs": [
        {
          "output_type": "stream",
          "name": "stdout",
          "text": [
            "[1, 2, 3, 4, 10]\n"
          ]
        }
      ]
    },
    {
      "cell_type": "markdown",
      "source": [
        " 8. Write a code to remove the number 3 from the list [1, 2, 3, 4, 5]\n"
      ],
      "metadata": {
        "id": "WwSou_lFet_k"
      }
    },
    {
      "cell_type": "code",
      "source": [
        "number=[1,2,3,4,5]\n",
        "number.remove(3)\n",
        "print(number)"
      ],
      "metadata": {
        "colab": {
          "base_uri": "https://localhost:8080/"
        },
        "id": "nR7PhPEFelf3",
        "outputId": "5a35fb6a-84a9-450c-8883-82ae205396a3"
      },
      "execution_count": 35,
      "outputs": [
        {
          "output_type": "stream",
          "name": "stdout",
          "text": [
            "[1, 2, 4, 5]\n"
          ]
        }
      ]
    },
    {
      "cell_type": "markdown",
      "source": [
        " 9. Write a code to access the second element in the list ['a', 'b', 'c', 'd']"
      ],
      "metadata": {
        "id": "qwpni5_XhKI4"
      }
    },
    {
      "cell_type": "code",
      "source": [
        "letter=['a','b','c','d']\n",
        "letter[1]"
      ],
      "metadata": {
        "colab": {
          "base_uri": "https://localhost:8080/",
          "height": 35
        },
        "id": "8F1rGW-ghFjt",
        "outputId": "84e10e98-a814-4394-bf9e-10e0114b3947"
      },
      "execution_count": 36,
      "outputs": [
        {
          "output_type": "execute_result",
          "data": {
            "text/plain": [
              "'b'"
            ],
            "application/vnd.google.colaboratory.intrinsic+json": {
              "type": "string"
            }
          },
          "metadata": {},
          "execution_count": 36
        }
      ]
    },
    {
      "cell_type": "markdown",
      "source": [
        " 10. Write a code to reverse the list [10, 20, 30, 40, 50]."
      ],
      "metadata": {
        "id": "N7YaSfs_iikX"
      }
    },
    {
      "cell_type": "code",
      "source": [
        "number=[10,20,30,40,50]\n",
        "number.reverse()\n",
        "print(number)"
      ],
      "metadata": {
        "colab": {
          "base_uri": "https://localhost:8080/"
        },
        "id": "Yp5dY-PHilzY",
        "outputId": "f5be2fd5-1b36-41f8-a047-07df7928bc26"
      },
      "execution_count": 38,
      "outputs": [
        {
          "output_type": "stream",
          "name": "stdout",
          "text": [
            "[50, 40, 30, 20, 10]\n"
          ]
        }
      ]
    },
    {
      "cell_type": "markdown",
      "source": [
        "11. Write a code to create a tuple with the elements 100, 200, 300 and print it."
      ],
      "metadata": {
        "id": "EAoHDuh-i5ZB"
      }
    },
    {
      "cell_type": "code",
      "source": [
        "number=(100,200,300)\n",
        "print(number)"
      ],
      "metadata": {
        "colab": {
          "base_uri": "https://localhost:8080/"
        },
        "id": "0-S9onEliylz",
        "outputId": "a79d3c23-5a10-4a98-ee5d-e5153f58d35b"
      },
      "execution_count": 41,
      "outputs": [
        {
          "output_type": "stream",
          "name": "stdout",
          "text": [
            "(100, 200, 300)\n"
          ]
        }
      ]
    },
    {
      "cell_type": "markdown",
      "source": [
        " 12. Write a code to access the second-to-last element of the tuple ('red', 'green', 'blue', 'yellow')."
      ],
      "metadata": {
        "id": "FqdajZGZkHHV"
      }
    },
    {
      "cell_type": "code",
      "source": [
        "color=(\"red\", \"green\", \"blue\", \"yellow\")\n",
        "color[1:]"
      ],
      "metadata": {
        "colab": {
          "base_uri": "https://localhost:8080/"
        },
        "id": "5usid921jTSe",
        "outputId": "49e0b163-1dc5-4291-d40d-5547df7d3ce2"
      },
      "execution_count": 43,
      "outputs": [
        {
          "output_type": "execute_result",
          "data": {
            "text/plain": [
              "('green', 'blue', 'yellow')"
            ]
          },
          "metadata": {},
          "execution_count": 43
        }
      ]
    },
    {
      "cell_type": "markdown",
      "source": [
        "13. Write a code to find the minimum number in the tuple (10, 20, 5, 15)."
      ],
      "metadata": {
        "id": "iBtffy-9k39_"
      }
    },
    {
      "cell_type": "code",
      "source": [
        "number=(10,20,5,15)\n",
        "min(number)"
      ],
      "metadata": {
        "colab": {
          "base_uri": "https://localhost:8080/"
        },
        "id": "Qq9MKAjtkhcp",
        "outputId": "9f286009-6d92-4b11-ce29-9d58165c02e2"
      },
      "execution_count": 44,
      "outputs": [
        {
          "output_type": "execute_result",
          "data": {
            "text/plain": [
              "5"
            ]
          },
          "metadata": {},
          "execution_count": 44
        }
      ]
    },
    {
      "cell_type": "markdown",
      "source": [
        "14. Write a code to find the index of the element \"cat\" in the tuple ('dog', 'cat', 'rabbit')."
      ],
      "metadata": {
        "id": "7o7sg0MOlKbn"
      }
    },
    {
      "cell_type": "code",
      "source": [
        "animal=(\"dog\",\"cat\",\"rabbit\")\n",
        "animal.index(\"cat\")"
      ],
      "metadata": {
        "colab": {
          "base_uri": "https://localhost:8080/"
        },
        "id": "mZMWN89glIl-",
        "outputId": "8cffb71a-dd82-44a5-abcc-48bee14f352c"
      },
      "execution_count": 48,
      "outputs": [
        {
          "output_type": "execute_result",
          "data": {
            "text/plain": [
              "1"
            ]
          },
          "metadata": {},
          "execution_count": 48
        }
      ]
    },
    {
      "cell_type": "markdown",
      "source": [
        "15. Write a code to create a tuple containing three different fruits and check if \"kiwi\" is in it."
      ],
      "metadata": {
        "id": "uqe3CREtlp6z"
      }
    },
    {
      "cell_type": "code",
      "source": [
        "fruit=(\"apple\", \"banana\",\"kiwi\")\n",
        "fruit=(\"apple\", \"banana\",\"kiwi\")\n",
        "if \"kiwi\" in fruit:\n",
        "  print(\"yesssssss\")\n",
        "else:\n",
        "  print(\"nooooo\")"
      ],
      "metadata": {
        "colab": {
          "base_uri": "https://localhost:8080/"
        },
        "id": "FfpdveJmlece",
        "outputId": "611206c7-5e60-4bea-8143-a9faf41ae9b0"
      },
      "execution_count": 52,
      "outputs": [
        {
          "output_type": "stream",
          "name": "stdout",
          "text": [
            "yesssssss\n"
          ]
        }
      ]
    },
    {
      "cell_type": "markdown",
      "source": [
        " 16. Write a code to create a set with the elements 'a', 'b', 'c' and print it."
      ],
      "metadata": {
        "id": "eb5QIknnslcE"
      }
    },
    {
      "cell_type": "code",
      "source": [
        "letter={\"a\",\"b\",\"c\"}\n",
        "print(letter)\n",
        "type(letter)"
      ],
      "metadata": {
        "colab": {
          "base_uri": "https://localhost:8080/"
        },
        "id": "UZuf6bvQnZpR",
        "outputId": "258ccbb8-9ebc-44f2-d7bb-7a663d30031a"
      },
      "execution_count": 56,
      "outputs": [
        {
          "output_type": "stream",
          "name": "stdout",
          "text": [
            "{'c', 'b', 'a'}\n"
          ]
        },
        {
          "output_type": "execute_result",
          "data": {
            "text/plain": [
              "set"
            ]
          },
          "metadata": {},
          "execution_count": 56
        }
      ]
    },
    {
      "cell_type": "markdown",
      "source": [
        " 17. Write a code to clear all elements from the set {1, 2, 3, 4, 5}.\n"
      ],
      "metadata": {
        "id": "UBCXoKrGtIxU"
      }
    },
    {
      "cell_type": "code",
      "source": [
        "number={1,2,3,4,5}\n",
        "number.clear()\n",
        "number"
      ],
      "metadata": {
        "colab": {
          "base_uri": "https://localhost:8080/"
        },
        "id": "rHkUwDjss3u_",
        "outputId": "b347655f-9dc7-4ea1-fd7e-7aa9d6ccf22f"
      },
      "execution_count": 58,
      "outputs": [
        {
          "output_type": "execute_result",
          "data": {
            "text/plain": [
              "set()"
            ]
          },
          "metadata": {},
          "execution_count": 58
        }
      ]
    },
    {
      "cell_type": "markdown",
      "source": [
        " 18. Write a code to remove the element 4 from the set {1, 2, 3, 4}.\n"
      ],
      "metadata": {
        "id": "ZS3QSbr4thwA"
      }
    },
    {
      "cell_type": "code",
      "source": [
        "number={1,2,3,4}\n",
        "number.remove(4)\n",
        "number"
      ],
      "metadata": {
        "colab": {
          "base_uri": "https://localhost:8080/"
        },
        "id": "fYDOi0TStjDU",
        "outputId": "39d8906f-d6d9-46d8-b14e-59e5bf0bbf31"
      },
      "execution_count": 60,
      "outputs": [
        {
          "output_type": "execute_result",
          "data": {
            "text/plain": [
              "{1, 2, 3}"
            ]
          },
          "metadata": {},
          "execution_count": 60
        }
      ]
    },
    {
      "cell_type": "markdown",
      "source": [
        " 19. Write a code to find the union of two sets {1, 2, 3} and {3, 4, 5}.\n"
      ],
      "metadata": {
        "id": "M3WnW3Mbt5IC"
      }
    },
    {
      "cell_type": "code",
      "source": [
        "set1={1,2,3}\n",
        "set2={3,4,5}\n",
        "set1|set2"
      ],
      "metadata": {
        "colab": {
          "base_uri": "https://localhost:8080/"
        },
        "id": "lY0Qprp1trDz",
        "outputId": "67911afe-5ab9-4001-f6c0-1c586627f2a2"
      },
      "execution_count": 64,
      "outputs": [
        {
          "output_type": "execute_result",
          "data": {
            "text/plain": [
              "{1, 2, 3, 4, 5}"
            ]
          },
          "metadata": {},
          "execution_count": 64
        }
      ]
    },
    {
      "cell_type": "markdown",
      "source": [
        " 20. Write a code to find the intersection of two sets {1, 2, 3} and {2, 3, 4}.\n"
      ],
      "metadata": {
        "id": "v3iZ_WEmuxnM"
      }
    },
    {
      "cell_type": "code",
      "source": [
        "set1={1,2,3}\n",
        "set2={2,3,4}\n",
        "set1&set2"
      ],
      "metadata": {
        "colab": {
          "base_uri": "https://localhost:8080/"
        },
        "id": "EtED-zYPuKTA",
        "outputId": "f66dcd1f-2065-4a8d-d244-38563aa707f2"
      },
      "execution_count": 65,
      "outputs": [
        {
          "output_type": "execute_result",
          "data": {
            "text/plain": [
              "{2, 3}"
            ]
          },
          "metadata": {},
          "execution_count": 65
        }
      ]
    },
    {
      "cell_type": "markdown",
      "source": [
        " 21. Write a code to create a dictionary with the keys \"name\", \"age\", and \"city\", and print it.\n"
      ],
      "metadata": {
        "id": "oAgG3aW0v05c"
      }
    },
    {
      "cell_type": "code",
      "source": [
        "info={\"name\": \"vikas\", \"age\": 26, \"city\":\"delhi\"}\n",
        "print(info)\n",
        "type(info)"
      ],
      "metadata": {
        "colab": {
          "base_uri": "https://localhost:8080/"
        },
        "id": "oFl-j2rcu_B6",
        "outputId": "f41e4db3-34c8-4cde-f006-413514fc1cd9"
      },
      "execution_count": 67,
      "outputs": [
        {
          "output_type": "stream",
          "name": "stdout",
          "text": [
            "{'name': 'vikas', 'age': 26, 'city': 'delhi'}\n"
          ]
        },
        {
          "output_type": "execute_result",
          "data": {
            "text/plain": [
              "dict"
            ]
          },
          "metadata": {},
          "execution_count": 67
        }
      ]
    },
    {
      "cell_type": "markdown",
      "source": [
        " 22. Write a code to add a new key-value pair \"country\": \"USA\" to the dictionary {'name': 'John', 'age': 25}.\n"
      ],
      "metadata": {
        "id": "AgS-jh_kwaWV"
      }
    },
    {
      "cell_type": "code",
      "source": [
        "info={\"name\":\"john\",\"age\":25}\n",
        "info[\"country\"]=\"USA\"\n",
        "print(info)"
      ],
      "metadata": {
        "colab": {
          "base_uri": "https://localhost:8080/"
        },
        "id": "LTpccpdrwQSG",
        "outputId": "7f62f30a-ae9d-4b65-ae88-445d923ba6ce"
      },
      "execution_count": 69,
      "outputs": [
        {
          "output_type": "stream",
          "name": "stdout",
          "text": [
            "{'name': 'john', 'age': 25, 'country': 'USA'}\n"
          ]
        }
      ]
    },
    {
      "cell_type": "markdown",
      "source": [
        " 23. Write a code to access the value associated with the key \"name\" in the dictionary {'name': 'Alice', 'age': 30}.\n"
      ],
      "metadata": {
        "id": "aCCw5g4-xcnS"
      }
    },
    {
      "cell_type": "code",
      "source": [
        "info={'name': 'Alice', 'age': 30}\n",
        "info['name']"
      ],
      "metadata": {
        "colab": {
          "base_uri": "https://localhost:8080/",
          "height": 35
        },
        "id": "uubysxmuw-yd",
        "outputId": "6a739003-125e-4c67-84a5-693107c0f29f"
      },
      "execution_count": 71,
      "outputs": [
        {
          "output_type": "execute_result",
          "data": {
            "text/plain": [
              "'Alice'"
            ],
            "application/vnd.google.colaboratory.intrinsic+json": {
              "type": "string"
            }
          },
          "metadata": {},
          "execution_count": 71
        }
      ]
    },
    {
      "cell_type": "markdown",
      "source": [
        " 24. Write a code to remove the key \"age\" from the dictionary {'name': 'Bob', 'age': 22, 'city': 'New York'}.\n"
      ],
      "metadata": {
        "id": "HXdTOrzVzYzj"
      }
    },
    {
      "cell_type": "code",
      "source": [
        "info= {'name': 'Bob', 'age': 22, 'city': 'New York'}\n",
        "del info['age']\n",
        "print(info)"
      ],
      "metadata": {
        "colab": {
          "base_uri": "https://localhost:8080/"
        },
        "id": "Ty1s_zQwxtae",
        "outputId": "501f4c7d-13aa-465d-8278-c11025e96e44"
      },
      "execution_count": 74,
      "outputs": [
        {
          "output_type": "stream",
          "name": "stdout",
          "text": [
            "{'name': 'Bob', 'city': 'New York'}\n"
          ]
        }
      ]
    },
    {
      "cell_type": "markdown",
      "source": [
        " 25. Write a code to check if the key \"city\" exists in the dictionary {'name': 'Alice', 'city': 'Paris'}.\n"
      ],
      "metadata": {
        "id": "hs6xeXmC10of"
      }
    },
    {
      "cell_type": "code",
      "source": [
        "info={'name': 'Alice', 'city': 'Paris'}\n",
        "if \"city\" in info:\n",
        "  print(\"yes\")\n",
        "else:\n",
        "  print(\"no\")"
      ],
      "metadata": {
        "colab": {
          "base_uri": "https://localhost:8080/"
        },
        "id": "egA0TlTTzpby",
        "outputId": "f4088ced-88a6-4bf2-8847-abc21da48388"
      },
      "execution_count": 75,
      "outputs": [
        {
          "output_type": "stream",
          "name": "stdout",
          "text": [
            "yes\n"
          ]
        }
      ]
    },
    {
      "cell_type": "markdown",
      "source": [
        " 26. Write a code to create a list, a tuple, and a dictionary, and print them all.\n"
      ],
      "metadata": {
        "id": "HpMqJgfz9xE_"
      }
    },
    {
      "cell_type": "code",
      "source": [
        "info=[\"raja\", \"rani\", 10, 10.1]\n",
        "print(info)\n",
        "type(info)"
      ],
      "metadata": {
        "colab": {
          "base_uri": "https://localhost:8080/"
        },
        "id": "trio_vXh9ruO",
        "outputId": "8e91451e-07fe-40b4-95b9-3befbc3bc1c9"
      },
      "execution_count": 81,
      "outputs": [
        {
          "output_type": "stream",
          "name": "stdout",
          "text": [
            "['raja', 'rani', 10, 10.1]\n"
          ]
        },
        {
          "output_type": "execute_result",
          "data": {
            "text/plain": [
              "list"
            ]
          },
          "metadata": {},
          "execution_count": 81
        }
      ]
    },
    {
      "cell_type": "code",
      "source": [
        "info=(\"raja\", \"rani\", 10, 10.1)\n",
        "print(info)\n",
        "type(info)"
      ],
      "metadata": {
        "colab": {
          "base_uri": "https://localhost:8080/"
        },
        "id": "FtaPdjiH-NQF",
        "outputId": "cf656b13-ee27-4a2d-c7b9-82af68bf0e87"
      },
      "execution_count": 83,
      "outputs": [
        {
          "output_type": "stream",
          "name": "stdout",
          "text": [
            "('raja', 'rani', 10, 10.1)\n"
          ]
        },
        {
          "output_type": "execute_result",
          "data": {
            "text/plain": [
              "tuple"
            ]
          },
          "metadata": {},
          "execution_count": 83
        }
      ]
    },
    {
      "cell_type": "code",
      "source": [
        "info={\"name\": \"vikas\",\"age\":26}\n",
        "print(info)\n",
        "type(info)"
      ],
      "metadata": {
        "colab": {
          "base_uri": "https://localhost:8080/"
        },
        "id": "8r6dNa2C-sdp",
        "outputId": "ecf82217-85e8-4c07-d374-b8c2a32f9c83"
      },
      "execution_count": 86,
      "outputs": [
        {
          "output_type": "stream",
          "name": "stdout",
          "text": [
            "{'name': 'vikas', 'age': 26}\n"
          ]
        },
        {
          "output_type": "execute_result",
          "data": {
            "text/plain": [
              "dict"
            ]
          },
          "metadata": {},
          "execution_count": 86
        }
      ]
    },
    {
      "cell_type": "markdown",
      "source": [
        " 27. Write a code to create a list of 5 random numbers between 1 and 100, sort it in ascending order, and print the result.(replaced)\n"
      ],
      "metadata": {
        "id": "OjUDmj_t_CKk"
      }
    },
    {
      "cell_type": "code",
      "source": [
        "number=[23,65,78,56]\n",
        "number.sort()\n",
        "print(number)"
      ],
      "metadata": {
        "colab": {
          "base_uri": "https://localhost:8080/"
        },
        "id": "UmlKKNMs-8Ez",
        "outputId": "c19cd240-1ea9-492f-faf5-bb424ab41774"
      },
      "execution_count": 89,
      "outputs": [
        {
          "output_type": "stream",
          "name": "stdout",
          "text": [
            "[23, 56, 65, 78]\n"
          ]
        }
      ]
    },
    {
      "cell_type": "markdown",
      "source": [
        "28. Write a code to create a list with strings and print the element at the third index.\n"
      ],
      "metadata": {
        "id": "kRQQXGR-BZEH"
      }
    },
    {
      "cell_type": "code",
      "source": [
        "state=[\"goa\",\"punjab\", \"haryana\", \"delhi\"]\n",
        "print(state[3])"
      ],
      "metadata": {
        "colab": {
          "base_uri": "https://localhost:8080/"
        },
        "id": "PlSLZnbkBQdL",
        "outputId": "fc0ee6b0-9978-4b92-a7dd-1410cda44b62"
      },
      "execution_count": 97,
      "outputs": [
        {
          "output_type": "stream",
          "name": "stdout",
          "text": [
            "delhi\n"
          ]
        }
      ]
    },
    {
      "cell_type": "markdown",
      "source": [
        " 29. Write a code to combine two dictionaries into one and print the result.\n"
      ],
      "metadata": {
        "id": "my5ToQoCDS2z"
      }
    },
    {
      "cell_type": "code",
      "source": [
        "dict1={\"name\": \"vikas\"}\n",
        "dict2={\"age\":26}\n",
        "dict1.update(dict2)\n",
        "print(dict1)"
      ],
      "metadata": {
        "colab": {
          "base_uri": "https://localhost:8080/"
        },
        "id": "jMAaIqDaDTnj",
        "outputId": "1084ce0a-5e91-45da-b0c4-caa500535128"
      },
      "execution_count": 104,
      "outputs": [
        {
          "output_type": "stream",
          "name": "stdout",
          "text": [
            "{'name': 'vikas', 'age': 26}\n"
          ]
        }
      ]
    },
    {
      "cell_type": "markdown",
      "source": [
        " 30. Write a code to convert a list of strings into a set.\n"
      ],
      "metadata": {
        "id": "5veKPB61FqCg"
      }
    },
    {
      "cell_type": "code",
      "source": [
        "state=[\"goa\",\"punjab\", \"haryana\", \"delhi\",\"goa\", \"goa\"]\n",
        "set(state)\n"
      ],
      "metadata": {
        "colab": {
          "base_uri": "https://localhost:8080/"
        },
        "id": "RExE-kISDvQO",
        "outputId": "19e95326-8f99-4eae-df96-86dbb08f70a2"
      },
      "execution_count": 116,
      "outputs": [
        {
          "output_type": "execute_result",
          "data": {
            "text/plain": [
              "{'delhi', 'goa', 'haryana', 'punjab'}"
            ]
          },
          "metadata": {},
          "execution_count": 116
        }
      ]
    },
    {
      "cell_type": "code",
      "source": [],
      "metadata": {
        "id": "OA_tZmejGOHz"
      },
      "execution_count": null,
      "outputs": []
    }
  ]
}